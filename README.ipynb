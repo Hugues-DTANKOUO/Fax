{
 "cells": [
  {
   "cell_type": "markdown",
   "metadata": {},
   "source": [
    "# <span style=\"color: orange; font-weight: bold;\">Fax</span> : Projet de Gestion Electronique des Documents"
   ]
  },
  {
   "cell_type": "markdown",
   "metadata": {},
   "source": [
    "<div style=\"\n",
    "        display: flex;\n",
    "        justify-content: center;\n",
    "        align-items: center;\n",
    "        height: 300px;\n",
    "    \"\n",
    ">\n",
    "    <img src=\"./assets/fax-img-1.png\" width=\"100\" height=\"auto\" alt=\"Première image\" />\n",
    "    <img src=\"./assets/logo/Fax-logo.png\" width=\"300\" height=\"auto\" alt=\"Première image\" />\n",
    "    <img src=\"./assets/fax-img-2.png\" width=\"100\" height=\"auto\" alt=\"Première image\" />\n",
    "</div>"
   ]
  },
  {
   "cell_type": "markdown",
   "metadata": {},
   "source": [
    "## Présentation Générale"
   ]
  },
  {
   "cell_type": "markdown",
   "metadata": {},
   "source": [
    "### 1. Contexte"
   ]
  },
  {
   "cell_type": "markdown",
   "metadata": {},
   "source": [
    "Les jeunes ayant grandit en Afrique ont un rapport particulier à l'apprentissage. La plupart d'entre nous avons étudiés par :"
   ]
  },
  {
   "cell_type": "markdown",
   "metadata": {},
   "source": [
    "- Des cours en présentiel dispensés par des instructeurs,\n",
    "- Des archives physiques et numériques mise à notre disposition ou trouver sur internet."
   ]
  },
  {
   "cell_type": "markdown",
   "metadata": {},
   "source": [
    "Cependant, la bonne gestion des archives n'est pas une pratique profondément institutionalisée.\n",
    "Au niveau des apprenants, l'absence de normes de rangement, de conservation et de partage des documents rend difficile la construction d'une base solide d'apprentissage."
   ]
  },
  {
   "cell_type": "markdown",
   "metadata": {},
   "source": [
    "Compte tenu de nos réalités énergétiques et de notre accès à la connectivité, une solution qui améliore ce schéma d'apprentissage serait plus viable que des solutions occidentales ; très axés sur la connectivité et le streaming."
   ]
  },
  {
   "cell_type": "markdown",
   "metadata": {},
   "source": [
    "Le principal problème qu'on cherche à adresser c'est l'accès aux ressources. Cette problématique est donc prépondérante sur les besoins ergonomiques et d'alignement technologique sur les plateformes d'apprentissages existantes."
   ]
  },
  {
   "cell_type": "markdown",
   "metadata": {},
   "source": [
    "Nous pouvons illustrés notre contexte par cette ensemble de situations actuelles :"
   ]
  },
  {
   "cell_type": "markdown",
   "metadata": {},
   "source": [
    "#### - <span style=\"color: green; font-weight: bold; text-decoration: underline;\">Étant donné</span> des étudiants qui sur une année scolaire doivent gérés un ensemble de ressources académiques"
   ]
  },
  {
   "cell_type": "markdown",
   "metadata": {},
   "source": [
    "Parmis elles, on peut citer : _Des supports de cours fournis par leurs enseignants_, _Des sujets d'examens_, _Des corrigés d'examens_, _Des ressources pertinentes trouvés sur internet_, _Les meilleurs notes de cours_, etc."
   ]
  },
  {
   "cell_type": "markdown",
   "metadata": {},
   "source": [
    "#### - <span style=\"color: green; font-weight: bold; text-decoration: underline;\">Étant donné</span> des étudiants et élèves qui ont du mal à retrouver les archives académiques des années précédentes"
   ]
  },
  {
   "cell_type": "markdown",
   "metadata": {},
   "source": [
    "Car étant donné que la transmission d'archives années après années n'est pas structuré et standardisé, il y a énormément de perte d'archive chaque année."
   ]
  },
  {
   "cell_type": "markdown",
   "metadata": {},
   "source": [
    "#### - <span style=\"color: green; font-weight: bold; text-decoration: underline;\">Étant donné</span> que même dans de nombreuses entreprises, il n'y a énormément de pertes de données dû au manque ou à la précarité des systèmes de gestion électronique des documents utilisés."
   ]
  },
  {
   "cell_type": "markdown",
   "metadata": {},
   "source": [
    "### 2. Plan de réalisation"
   ]
  },
  {
   "cell_type": "markdown",
   "metadata": {},
   "source": [
    "Pour construire une solution qui résout ce problème, nous comptons utiliser une approche itérative et incrémentale ([pratiquer l'agilité](/docs/manifeste%20agile.md)).\n",
    "Donc nous allons apprendre à marcher avant de courir.\n",
    "\n",
    "Notre projection prévoit les étapes suivantes :"
   ]
  },
  {
   "cell_type": "markdown",
   "metadata": {},
   "source": [
    "#### - <span style=\"color: green; font-weight: bold; text-decoration: underline;\">Quand</span> nous avons une représentation des dossiers et des fichiers qui répond à nos besoins"
   ]
  },
  {
   "cell_type": "markdown",
   "metadata": {},
   "source": [
    "Concrêtement il est important d'être tout d'abord capable de se matérialiser des dossiers, des fichiers ainsi que leurs propriétés de base."
   ]
  },
  {
   "cell_type": "markdown",
   "metadata": {},
   "source": [
    "#### - <span style=\"color: green; font-weight: bold; text-decoration: underline;\">Quand</span> nous pouvons situer des dossiers et des fichiers dans une arborescence"
   ]
  },
  {
   "cell_type": "markdown",
   "metadata": {},
   "source": [
    "On doit pouvoir localiser de façon précise un fichier ou un dossier dans une arborescence."
   ]
  },
  {
   "cell_type": "markdown",
   "metadata": {},
   "source": [
    "#### - <span style=\"color: green; font-weight: bold; text-decoration: underline;\">Quand</span> nous arrivons à parcourir une arborescence et à sélectionner un dossier ou un fichier"
   ]
  },
  {
   "cell_type": "markdown",
   "metadata": {},
   "source": [
    "On doit pouvoir naviguer dans une arborescence, entré et sortir dans des dossiers, avoir une vue sur le contenu d'un dossier, se frayer un chemin vers n'importe quelle ressource de notre arborescence"
   ]
  },
  {
   "cell_type": "markdown",
   "metadata": {},
   "source": [
    "#### - <span style=\"color: green; font-weight: bold; text-decoration: underline;\">Quand</span> nous arrivons à effectuer les opérations suivantes dans une arborescence :"
   ]
  },
  {
   "cell_type": "markdown",
   "metadata": {},
   "source": [
    "- Créer un dossier dans une arborescence"
   ]
  },
  {
   "cell_type": "markdown",
   "metadata": {},
   "source": [
    "- Ajouter un fichier dans une arborescence"
   ]
  },
  {
   "cell_type": "markdown",
   "metadata": {},
   "source": [
    "- Clôner un dossier et son contenu"
   ]
  },
  {
   "cell_type": "markdown",
   "metadata": {},
   "source": [
    "- Clôner un dossier dans une arborescence et son contenu"
   ]
  },
  {
   "cell_type": "markdown",
   "metadata": {},
   "source": [
    "- Clôner un fichier dans une arborescence"
   ]
  },
  {
   "cell_type": "markdown",
   "metadata": {},
   "source": [
    "- Télécharger un fichier"
   ]
  },
  {
   "cell_type": "markdown",
   "metadata": {},
   "source": [
    "- Mettre à jour un dossier en ligne ou localement"
   ]
  },
  {
   "cell_type": "markdown",
   "metadata": {},
   "source": [
    "- Mettre à jour un fichier en ligne ou localement"
   ]
  },
  {
   "cell_type": "markdown",
   "metadata": {},
   "source": [
    "- Supprimer un dossier en ligne ou localement"
   ]
  },
  {
   "cell_type": "markdown",
   "metadata": {},
   "source": [
    "- Supprimer un fichier en ligne ou localement"
   ]
  },
  {
   "cell_type": "markdown",
   "metadata": {},
   "source": [
    "#### - <span style=\"color: green; font-weight: bold; text-decoration: underline;\">Quand</span> nous arrivons à reproduire les opérations précédentes dans un dossier *`Google Drive`*"
   ]
  },
  {
   "cell_type": "markdown",
   "metadata": {},
   "source": [
    "Il est question d'arriver à reproduire chacune des fonctionnalités développées sur un dossier `Google Drive` en se servant de son `API`"
   ]
  },
  {
   "cell_type": "markdown",
   "metadata": {},
   "source": [
    "#### - <span style=\"color: green; font-weight: bold; text-decoration: underline;\">Quand</span> nous créons et authentifions des utilisateurs"
   ]
  },
  {
   "cell_type": "markdown",
   "metadata": {},
   "source": [
    "Il est question ici définir les propriétés d'un utilisateur, d'en créer et de les authentifier à notre application"
   ]
  },
  {
   "cell_type": "markdown",
   "metadata": {},
   "source": [
    "#### - <span style=\"color: green; font-weight: bold; text-decoration: underline;\">Quand</span> nous associons un utilisateur à son activité"
   ]
  },
  {
   "cell_type": "markdown",
   "metadata": {},
   "source": [
    "Il est question ici de pouvoir retracer qui a fait quoi"
   ]
  },
  {
   "cell_type": "markdown",
   "metadata": {},
   "source": [
    "#### - <span style=\"color: green; font-weight: bold; text-decoration: underline;\">Quand</span> nous associons un rôle et des permissions à un utilisateur"
   ]
  },
  {
   "cell_type": "markdown",
   "metadata": {},
   "source": [
    "Il est question ici de savoir qui peut faire quoi"
   ]
  },
  {
   "cell_type": "markdown",
   "metadata": {},
   "source": [
    "#### - <span style=\"color: green; font-weight: bold; text-decoration: underline;\">Quand</span> nous interfaçons ces fonctionnalités à :"
   ]
  },
  {
   "cell_type": "markdown",
   "metadata": {},
   "source": [
    "- Une interface graphique pour ordinateur"
   ]
  },
  {
   "cell_type": "markdown",
   "metadata": {},
   "source": [
    "- Une application mobile Androïd"
   ]
  },
  {
   "cell_type": "markdown",
   "metadata": {},
   "source": [
    "- Une application mobile iOS"
   ]
  },
  {
   "cell_type": "markdown",
   "metadata": {},
   "source": [
    "- Une interface de ligne de commande"
   ]
  },
  {
   "cell_type": "markdown",
   "metadata": {},
   "source": [
    "- Une API Web"
   ]
  },
  {
   "cell_type": "markdown",
   "metadata": {},
   "source": [
    "### 3. Objectifs visés"
   ]
  },
  {
   "cell_type": "markdown",
   "metadata": {},
   "source": [
    "Au sorti de nos travaux, l'objectif visés est d'avoir une solution utile et utilisable de notre produit *`FAX`*. Étant donné notre contexte et Quand on déroulera notre plan d'action,"
   ]
  },
  {
   "cell_type": "markdown",
   "metadata": {},
   "source": [
    "#### - <span style=\"color: green; font-weight: bold; text-decoration: underline;\">Alors</span> on aura la capacité de manipuler un dossier sur notre ordinateur local depuis l'application"
   ]
  },
  {
   "cell_type": "markdown",
   "metadata": {},
   "source": [
    "#### - <span style=\"color: green; font-weight: bold; text-decoration: underline;\">Alors</span> on pourra manipuler un dossier distant provenant de Google Drive, d'une machine distante ou de d'autres plateformes"
   ]
  },
  {
   "cell_type": "markdown",
   "metadata": {},
   "source": [
    "#### - <span style=\"color: green; font-weight: bold; text-decoration: underline;\">Alors</span> on pourra faire le suivi de l'activité d'un utilisateur sur l'application"
   ]
  },
  {
   "cell_type": "markdown",
   "metadata": {},
   "source": [
    "#### - <span style=\"color: green; font-weight: bold; text-decoration: underline;\">Alors</span> on pourra octroyer et gérer les accès à un dossier sous notre suppervision depuis l'application"
   ]
  },
  {
   "cell_type": "markdown",
   "metadata": {},
   "source": [
    "#### - <span style=\"color: green; font-weight: bold; text-decoration: underline;\">Alors</span> on aura une application multi-plateforme accessible par :"
   ]
  },
  {
   "cell_type": "markdown",
   "metadata": {},
   "source": [
    "- Une interface graphique pour ordinateur"
   ]
  },
  {
   "cell_type": "markdown",
   "metadata": {},
   "source": [
    "- Une application mobile Androïd ou iOS"
   ]
  },
  {
   "cell_type": "markdown",
   "metadata": {},
   "source": [
    "- Une interface de ligne de commande"
   ]
  },
  {
   "cell_type": "markdown",
   "metadata": {},
   "source": [
    "- Une API Web"
   ]
  },
  {
   "cell_type": "markdown",
   "metadata": {},
   "source": [
    "## Fonctionnalités"
   ]
  },
  {
   "cell_type": "markdown",
   "metadata": {},
   "source": [
    "## Technologies Utilisées"
   ]
  },
  {
   "cell_type": "markdown",
   "metadata": {},
   "source": [
    "## Installation"
   ]
  },
  {
   "cell_type": "markdown",
   "metadata": {},
   "source": [
    "## Utilisation"
   ]
  },
  {
   "cell_type": "markdown",
   "metadata": {},
   "source": [
    "## [Contribution](CONTRIBUTING.md)"
   ]
  },
  {
   "cell_type": "markdown",
   "metadata": {},
   "source": [
    "### [Comment contribuer au projet avec VS Code sur sa machine](/docs/utilisatation-vs-code.md)"
   ]
  },
  {
   "cell_type": "markdown",
   "metadata": {},
   "source": [
    "## Licence"
   ]
  },
  {
   "cell_type": "markdown",
   "metadata": {},
   "source": [
    "## Contact"
   ]
  },
  {
   "cell_type": "markdown",
   "metadata": {},
   "source": [
    "| *Roles* | Prénom et Nom | Github | LinkedIn | Facebook | Téléphone |\n",
    "|---------|---------------|--------|----------|----------|-----------|\n",
    "| *Chef de Projet* | Hugues DTANKOUO | [@Hugues-DTANKOUO](https://github.com/Hugues-DTANKOUO)   |   [@dtankouo](https://linkedin.com/in/dtankouo)   |   [@ing.hugues.dtankouo](https://facebook.com/ing.hugues.dtankouo)   |   [+1(819)529-4795](https://wa.me/message/RE3Z6BSVNAOTF1) |\n",
    "| Contributeur 1 |Paul KPADONOU |[@Mahouton](https://github.com/Mahouton) |[@paul-kpadonou](https://www.linkedin.com/in/paul-kpadonou/) | |[+(229)90320232](90320232)|"
   ]
  }
 ],
 "metadata": {
  "language_info": {
   "name": "python"
  }
 },
 "nbformat": 4,
 "nbformat_minor": 2
}
